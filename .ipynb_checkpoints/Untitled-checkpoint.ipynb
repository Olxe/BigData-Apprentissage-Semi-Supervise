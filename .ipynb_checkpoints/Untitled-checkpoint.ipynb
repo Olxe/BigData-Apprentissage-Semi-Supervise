{
 "cells": [
  {
   "cell_type": "code",
   "execution_count": 7,
   "id": "79b78962-83ec-4caf-a21b-24fd2cac5909",
   "metadata": {},
   "outputs": [
    {
     "data": {
      "text/plain": [
       "'1.3.4'"
      ]
     },
     "execution_count": 7,
     "metadata": {},
     "output_type": "execute_result"
    }
   ],
   "source": [
    "import pandas as pd\n",
    "import random\n",
    "import numpy as np\n",
    "\n",
    "pd.__version__"
   ]
  },
  {
   "cell_type": "code",
   "execution_count": 9,
   "id": "b71b83c9-305f-4ad0-8cee-38e51e4afc68",
   "metadata": {
    "scrolled": true
   },
   "outputs": [
    {
     "name": "stdout",
     "output_type": "stream",
     "text": [
      "[[-0.23 -1.21  1.2  ... -0.53  0.29  2.  ]\n",
      " [-0.23 -1.21  1.2  ... -0.53  0.29  2.  ]\n",
      " [-0.69  1.    1.08 ... -1.33  1.    1.  ]\n",
      " ...\n",
      " [ 1.04 -0.07 -0.59 ...  0.35 -0.3   1.  ]\n",
      " [ 0.3  -1.23  0.16 ... -0.89 -0.24  1.  ]\n",
      " [ 1.06 -0.42 -1.09 ... -0.62  0.82  2.  ]]\n",
      "        0     1     2     3     4     5     6     7     8     9   ...    31  \\\n",
      "0    -0.23 -1.21  1.20  1.23 -0.10  0.12  2.49  1.19  1.34  0.58  ... -0.86   \n",
      "1    -0.23 -1.21  1.20  1.23 -0.10  0.12  2.49  1.19  1.34  0.58  ... -0.86   \n",
      "2    -0.69  1.00  1.08  1.48  2.44  3.39  3.09  4.08  5.48  3.61  ...  0.29   \n",
      "3    -0.23 -1.21  1.20  1.23 -0.10  0.12  2.49  1.19  1.34  0.58  ... -0.86   \n",
      "4    -0.69  1.00  1.08  1.48  2.44  3.39  3.09  4.08  5.48  3.61  ...  0.29   \n",
      "...    ...   ...   ...   ...   ...   ...   ...   ...   ...   ...  ...   ...   \n",
      "4995 -0.94  1.10  2.19  1.93  2.71  5.01  5.34  2.61  5.05  3.57  ...  1.59   \n",
      "4996  0.59  0.68  1.17  1.48  4.56  3.93  5.08  4.18  4.08  3.24  ... -0.86   \n",
      "4997  1.04 -0.07 -0.59  2.11  1.56 -0.18  1.64  3.05  3.11  4.93  ...  0.68   \n",
      "4998  0.30 -1.23  0.16 -0.88  0.24  1.08  1.48  1.62  3.75  5.12  ... -1.10   \n",
      "4999  1.06 -0.42 -1.09 -0.47 -1.89 -0.50  3.95  3.31  3.43  4.46  ...  0.09   \n",
      "\n",
      "        32    33    34    35    36    37    38    39   40  \n",
      "0    -0.70  0.51  0.34 -0.13 -0.87  0.56 -0.53  0.29  2.0  \n",
      "1    -0.70  0.51  0.34 -0.13 -0.87  0.56 -0.53  0.29  2.0  \n",
      "2     1.12  0.60  0.28  2.17  0.18 -0.09 -1.33  1.00  1.0  \n",
      "3    -0.70  0.51  0.34 -0.13 -0.87  0.56 -0.53  0.29  2.0  \n",
      "4     1.12  0.60  0.28  2.17  0.18 -0.09 -1.33  1.00  1.0  \n",
      "...    ...   ...   ...   ...   ...   ...   ...   ...  ...  \n",
      "4995  0.50 -0.58 -2.11  1.25  0.21 -0.58  0.12  1.00  0.0  \n",
      "4996  2.12 -0.25  0.58 -0.37  0.67  1.60  0.46  0.24  1.0  \n",
      "4997  0.78  1.03 -1.66 -2.21 -0.72  0.46  0.35 -0.30  1.0  \n",
      "4998  1.44  0.87 -0.47 -0.12  0.10  0.02 -0.89 -0.24  1.0  \n",
      "4999  0.09  1.21 -0.13  1.01 -0.43 -0.62 -0.62  0.82  2.0  \n",
      "\n",
      "[5000 rows x 41 columns]\n"
     ]
    }
   ],
   "source": [
    "def loadData(filename):\n",
    "    with open(filename, \"r\") as file:\n",
    "        first_line = file.readline()\n",
    "        tokens = first_line.split()\n",
    "        matrix = np.loadtxt(filename, usecols=range(len(tokens)))\n",
    "        return matrix\n",
    "\n",
    "baseOutput = loadData('Wave.txt') \n",
    "random.shuffle(baseOutput)\n",
    "\n",
    "df = pd.DataFrame(baseOutput)\n",
    "print(df)\n",
    "\n",
    "A = df.iloc[0:int(len(baseOutput) / 2)]\n",
    "T = df.iloc[int(len(baseOutput) / 2):]\n",
    "\n",
    "print(A)\n",
    "print(T )\n",
    "\n",
    "# #Decoupage de nos donnees en 2 bases\n",
    "# A = baseOutput[0:int(len(baseOutput) / 2)]\n",
    "# T = baseOutput[int(len(baseOutput) / 2):]\n",
    "# print(len(A))\n",
    "# print(len(T)) \n",
    "\n",
    "# #Labelisation de la base A\n",
    "# pourcent = 0.3\n",
    "# demi_A_labelisee = A[0:int(len(A) * pourcent)]\n",
    "# autre_demi_A = A[int(len(A) * pourcent):]\n",
    "# print(len(demi_A_labelisee))\n",
    "# print(len(autre_demi_A))\n",
    "\n",
    "# #Score de fisher\n",
    "# #Recuperation des classes de la base labelisee\n",
    "\n",
    "# firstClass = A[A[:,-1]==0]\n",
    "# secondClass = A[A[:,-1]==1]\n",
    "# thirdClass = A[A[:,-1]==2]\n",
    "\n",
    "# c = 3\n",
    "# n1 = len(firstClass)\n",
    "# n2 = len(secondClass)\n",
    "# n3 = len(thirdClass)\n",
    "\n",
    "# tabFirstAverage = []\n",
    "# tabSecondAverage = []\n",
    "# tabThirdAverage = []"
   ]
  },
  {
   "cell_type": "code",
   "execution_count": null,
   "id": "6c6dafcd",
   "metadata": {},
   "outputs": [],
   "source": []
  }
 ],
 "metadata": {
  "kernelspec": {
   "display_name": "Python 3 (ipykernel)",
   "language": "python",
   "name": "python3"
  },
  "language_info": {
   "codemirror_mode": {
    "name": "ipython",
    "version": 3
   },
   "file_extension": ".py",
   "mimetype": "text/x-python",
   "name": "python",
   "nbconvert_exporter": "python",
   "pygments_lexer": "ipython3",
   "version": "3.9.7"
  }
 },
 "nbformat": 4,
 "nbformat_minor": 5
}
